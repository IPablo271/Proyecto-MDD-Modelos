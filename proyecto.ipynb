{
 "cells": [
  {
   "attachments": {},
   "cell_type": "markdown",
   "metadata": {},
   "source": [
    "# Proyecto Mineria de datos (Determinar si el peso del bebe es bajo o no)\n",
    "## Modelos de Machine Learning"
   ]
  },
  {
   "cell_type": "code",
   "execution_count": 3,
   "metadata": {},
   "outputs": [
    {
     "name": "stdout",
     "output_type": "stream",
     "text": [
      "(1091330, 43)\n",
      "(1068100, 43)\n"
     ]
    }
   ],
   "source": [
    "import pandas as pd\n",
    "\n",
    "# Lee el archivo CSV\n",
    "data = pd.read_csv('data_set_completo.csv')\n",
    "print(data.shape)\n",
    "columns_to_check = ['Libras', 'Onzas', 'Tohite', 'Tohim', 'Tohivi','Edadm']\n",
    "data = data[~data[columns_to_check].isin([99,999]).any(axis=1)]\n",
    "print(data.shape)\n",
    "# Calcula la nueva columna \"peso_bebe\"\n",
    "data['peso_bebe'] = data['Libras'] + (data['Onzas'] / 16)\n",
    "data['classification'] = data['peso_bebe'].apply(lambda x: 0 if x <= 5.5 else 1)\n",
    "data = data.drop(\"Unnamed: 0\", axis=1)\n"
   ]
  },
  {
   "cell_type": "code",
   "execution_count": 4,
   "metadata": {},
   "outputs": [
    {
     "name": "stdout",
     "output_type": "stream",
     "text": [
      "   Depreg  Mupreg  Mesreg  Añoreg  TipoIns  Depocu  Mupocu  Libras  Onzas   \n",
      "0       1     115      10    2018        3       1     101       5     12  \\\n",
      "1       1     106      10    2018        3       1     101       6     12   \n",
      "2       1     101       4    2018        3       1     101       6      8   \n",
      "3      21    2106       4    2018        3      21    2106       6      8   \n",
      "4      18    1805      10    2018        3      18    1805       9      1   \n",
      "\n",
      "   Diaocu  ...  Mupnam  Escolam  Ocupam  Asisrec  Sitioocu  Tohite  Tohim   \n",
      "0      17  ...     101        2      97        3         4       3      0  \\\n",
      "1       8  ...     106        4      97        3         4       1      0   \n",
      "2      12  ...     101        3      97        3         4       1      0   \n",
      "3      11  ...     507        4      97        3         4       2      0   \n",
      "4       4  ...    1909        1      97        3         4      12      0   \n",
      "\n",
      "   Tohivi  peso_bebe  classification  \n",
      "0       3     5.7500               1  \n",
      "1       1     6.7500               1  \n",
      "2       1     6.5000               1  \n",
      "3       2     6.5000               1  \n",
      "4      12     9.0625               1  \n",
      "\n",
      "[5 rows x 44 columns]\n"
     ]
    }
   ],
   "source": [
    "print(data.head())"
   ]
  },
  {
   "cell_type": "code",
   "execution_count": 5,
   "metadata": {},
   "outputs": [
    {
     "name": "stdout",
     "output_type": "stream",
     "text": [
      "Resultados de la prueba de chi-cuadrado:\n",
      "Depreg: Chi2 = 6832.266882298631, p-value = 0.0\n",
      "Mupreg: Chi2 = 20388.81711156488, p-value = 0.0\n",
      "Mesreg: Chi2 = 53.37303899606705, p-value = 1.5355496733228042e-07\n",
      "Añoreg: Chi2 = 344.610648183958, p-value = 2.1908253566861935e-74\n",
      "Depocu: Chi2 = 6981.452355685638, p-value = 0.0\n",
      "Mupocu: Chi2 = 22760.8091260673, p-value = 0.0\n",
      "Sexo: Chi2 = 2113.0520258143033, p-value = 0.0\n",
      "Diaocu: Chi2 = 28.339176910958727, p-value = 0.5524682922470174\n",
      "Mesocu: Chi2 = 91.08186403450352, p-value = 1.0229633437017034e-14\n",
      "Tipar: Chi2 = 47621.01315566545, p-value = 0.0\n",
      "ViaPar: Chi2 = 5549.956419088421, p-value = 0.0\n",
      "Deprem: Chi2 = 5785.262634371842, p-value = 0.0\n",
      "Muprem: Chi2 = 11766.942272249005, p-value = 0.0\n",
      "Escivm: Chi2 = 179.6825169716514, p-value = 1.0328263621454905e-38\n",
      "Asisrec: Chi2 = 3522.2004720742025, p-value = 0.0\n",
      "Sitioocu: Chi2 = 4665.275417342266, p-value = 0.0\n",
      "classification: Chi2 = 1068091.1601804898, p-value = 0.0\n",
      "\n",
      "Resultados de la prueba de correlación:\n",
      "Edadm: Correlation = 0.004012812853008205, p-value = 3.365502757834021e-05\n",
      "Tohite: Correlation = 0.03795607998121308, p-value = 0.0\n",
      "Tohim: Correlation = -0.011846246077911432, p-value = 1.822736255667565e-34\n",
      "Tohivi: Correlation = 0.04332145762370256, p-value = 0.0\n",
      "peso_bebe: Correlation = 0.6498482196800803, p-value = 0.0\n",
      "classification: Correlation = 0.9999999999971863, p-value = 0.0\n"
     ]
    }
   ],
   "source": [
    "from scipy.stats import chi2_contingency\n",
    "from scipy.stats import pearsonr\n",
    "\n",
    "\n",
    "\n",
    "# Variables categóricas\n",
    "variables_categoricas = ['Depreg', 'Mupreg', 'Mesreg', 'Añoreg', 'Depocu', 'Mupocu', 'Sexo', 'Diaocu', 'Mesocu',\n",
    "                         'Tipar',\"ViaPar\", 'Deprem', 'Muprem', 'Escivm', 'Asisrec', 'Sitioocu', 'classification']\n",
    "\n",
    "# Variables cuantitativas\n",
    "variables_cuantitativas = ['Edadm', 'Tohite', 'Tohim', 'Tohivi', 'peso_bebe', 'classification']\n",
    "\n",
    "# Prueba de chi-cuadrado para las variables categóricas\n",
    "chi2_results = {}\n",
    "for variable in variables_categoricas:\n",
    "    contingency_table = pd.crosstab(data[variable], data['classification'])\n",
    "    chi2, p_value, _, _ = chi2_contingency(contingency_table)\n",
    "    chi2_results[variable] = (chi2, p_value)\n",
    "\n",
    "# Prueba de correlación para las variables cuantitativas\n",
    "correlation_results = {}\n",
    "for variable in variables_cuantitativas:\n",
    "    correlation, p_value = pearsonr(data[variable], data['classification'])\n",
    "    correlation_results[variable] = (correlation, p_value)\n",
    "\n",
    "# Imprimir los resultados de la prueba de chi-cuadrado\n",
    "print(\"Resultados de la prueba de chi-cuadrado:\")\n",
    "for variable, (chi2, p_value) in chi2_results.items():\n",
    "    print(f\"{variable}: Chi2 = {chi2}, p-value = {p_value}\")\n",
    "\n",
    "# Imprimir los resultados de la prueba de correlación\n",
    "print(\"\\nResultados de la prueba de correlación:\")\n",
    "for variable, (correlation, p_value) in correlation_results.items():\n",
    "    print(f\"{variable}: Correlation = {correlation}, p-value = {p_value}\")\n"
   ]
  },
  {
   "attachments": {},
   "cell_type": "markdown",
   "metadata": {},
   "source": [
    "## Regresion logistica"
   ]
  },
  {
   "cell_type": "code",
   "execution_count": 6,
   "metadata": {},
   "outputs": [
    {
     "name": "stdout",
     "output_type": "stream",
     "text": [
      "(1068100, 5)\n",
      "(1068100,)\n",
      "              precision    recall  f1-score   support\n",
      "\n",
      "           0       0.77      0.07      0.13     41879\n",
      "           1       0.88      1.00      0.93    278551\n",
      "\n",
      "    accuracy                           0.88    320430\n",
      "   macro avg       0.82      0.53      0.53    320430\n",
      "weighted avg       0.86      0.88      0.83    320430\n",
      "\n",
      "Precisión en el conjunto de entrenamiento: 0.8767651504005778\n",
      "Precisión en el conjunto de prueba: 0.8759323409168929\n",
      "[[  3019  38860]\n",
      " [   895 277656]]\n"
     ]
    },
    {
     "data": {
      "image/png": "[encoded data removed]",
      "text/plain": [
       "<Figure size 640x480 with 2 Axes>"
      ]
     },
     "metadata": {},
     "output_type": "display_data"
    }
   ],
   "source": [
    "import seaborn as sns\n",
    "import matplotlib.pyplot as plt\n",
    "from sklearn.linear_model import LogisticRegression\n",
    "from sklearn.model_selection import train_test_split\n",
    "from sklearn.metrics import classification_report,confusion_matrix\n",
    "from sklearn.preprocessing import StandardScaler\n",
    "\n",
    "\n",
    "\n",
    "variables_seleccionadas = ['Sexo','Tipar',\"ViaPar\",'Sitioocu',\"Mupocu\" ,'classification']\n",
    "data_selected = data[variables_seleccionadas]\n",
    "\n",
    "\n",
    "# Dividir los datos en conjunto de entrenamiento y conjunto de prueba\n",
    "X = data_selected.drop('classification', axis=1)\n",
    "y = data_selected['classification']\n",
    "\n",
    "print(X.shape)\n",
    "print(y.shape)\n",
    "\n",
    "X_train, X_test, y_train, y_test = train_test_split(X, y, test_size=0.3, random_state=42)\n",
    "\n",
    "scaler = StandardScaler()\n",
    "scaler.fit(X)\n",
    "X_train = scaler.transform(X_train)\n",
    "X_test = scaler.transform(X_test)\n",
    "\n",
    "\n",
    "# Crear el modelo de regresión logística\n",
    "model = LogisticRegression()\n",
    "\n",
    "# Entrenar el modelo\n",
    "model.fit(X_train, y_train)\n",
    "\n",
    "\n",
    "# Realizar predicciones en el conjunto de prueba\n",
    "y_pred = model.predict(X_test)\n",
    "\n",
    "# Evaluar el modelo\n",
    "print(classification_report(y_test, y_pred))\n",
    "\n",
    "train_accuracy = model.score(X_train, y_train)\n",
    "test_accuracy = model.score(X_test, y_test)\n",
    "\n",
    "print(\"Precisión en el conjunto de entrenamiento:\", train_accuracy)\n",
    "print(\"Precisión en el conjunto de prueba:\", test_accuracy)\n",
    "\n",
    "\n",
    "cm = confusion_matrix(y_test, y_pred)\n",
    "print(cm)\n",
    "sns.heatmap(cm, annot=True, cmap='Blues')\n",
    "plt.xlabel('Predicted')\n",
    "plt.ylabel('True')\n",
    "plt.show()\n",
    "\n",
    "# Imprimir la precisión en ambos conjuntos\n"
   ]
  },
  {
   "cell_type": "code",
   "execution_count": 7,
   "metadata": {},
   "outputs": [
    {
     "name": "stderr",
     "output_type": "stream",
     "text": [
      "c:\\Users\\paqui\\OneDrive\\Documentos\\GitHub\\Proyecto-MDD-Modelos\\venv\\lib\\site-packages\\sklearn\\linear_model\\_logistic.py:458: ConvergenceWarning: lbfgs failed to converge (status=1):\n",
      "STOP: TOTAL NO. of ITERATIONS REACHED LIMIT.\n",
      "\n",
      "Increase the number of iterations (max_iter) or scale the data as shown in:\n",
      "    https://scikit-learn.org/stable/modules/preprocessing.html\n",
      "Please also refer to the documentation for alternative solver options:\n",
      "    https://scikit-learn.org/stable/modules/linear_model.html#logistic-regression\n",
      "  n_iter_i = _check_optimize_result(\n",
      "c:\\Users\\paqui\\OneDrive\\Documentos\\GitHub\\Proyecto-MDD-Modelos\\venv\\lib\\site-packages\\sklearn\\linear_model\\_logistic.py:458: ConvergenceWarning: lbfgs failed to converge (status=1):\n",
      "STOP: TOTAL NO. of ITERATIONS REACHED LIMIT.\n",
      "\n",
      "Increase the number of iterations (max_iter) or scale the data as shown in:\n",
      "    https://scikit-learn.org/stable/modules/preprocessing.html\n",
      "Please also refer to the documentation for alternative solver options:\n",
      "    https://scikit-learn.org/stable/modules/linear_model.html#logistic-regression\n",
      "  n_iter_i = _check_optimize_result(\n",
      "c:\\Users\\paqui\\OneDrive\\Documentos\\GitHub\\Proyecto-MDD-Modelos\\venv\\lib\\site-packages\\sklearn\\linear_model\\_logistic.py:458: ConvergenceWarning: lbfgs failed to converge (status=1):\n",
      "STOP: TOTAL NO. of ITERATIONS REACHED LIMIT.\n",
      "\n",
      "Increase the number of iterations (max_iter) or scale the data as shown in:\n",
      "    https://scikit-learn.org/stable/modules/preprocessing.html\n",
      "Please also refer to the documentation for alternative solver options:\n",
      "    https://scikit-learn.org/stable/modules/linear_model.html#logistic-regression\n",
      "  n_iter_i = _check_optimize_result(\n",
      "c:\\Users\\paqui\\OneDrive\\Documentos\\GitHub\\Proyecto-MDD-Modelos\\venv\\lib\\site-packages\\sklearn\\linear_model\\_logistic.py:458: ConvergenceWarning: lbfgs failed to converge (status=1):\n",
      "STOP: TOTAL NO. of ITERATIONS REACHED LIMIT.\n",
      "\n",
      "Increase the number of iterations (max_iter) or scale the data as shown in:\n",
      "    https://scikit-learn.org/stable/modules/preprocessing.html\n",
      "Please also refer to the documentation for alternative solver options:\n",
      "    https://scikit-learn.org/stable/modules/linear_model.html#logistic-regression\n",
      "  n_iter_i = _check_optimize_result(\n",
      "c:\\Users\\paqui\\OneDrive\\Documentos\\GitHub\\Proyecto-MDD-Modelos\\venv\\lib\\site-packages\\sklearn\\linear_model\\_logistic.py:458: ConvergenceWarning: lbfgs failed to converge (status=1):\n",
      "STOP: TOTAL NO. of ITERATIONS REACHED LIMIT.\n",
      "\n",
      "Increase the number of iterations (max_iter) or scale the data as shown in:\n",
      "    https://scikit-learn.org/stable/modules/preprocessing.html\n",
      "Please also refer to the documentation for alternative solver options:\n",
      "    https://scikit-learn.org/stable/modules/linear_model.html#logistic-regression\n",
      "  n_iter_i = _check_optimize_result(\n"
     ]
    },
    {
     "name": "stdout",
     "output_type": "stream",
     "text": [
      "Resultados de la validación cruzada: [0.87210467 0.87573261 0.87646756 0.87017133 0.87630372]\n",
      "Precisión promedio: 0.87\n",
      "Desviación estándar: 0.00\n"
     ]
    },
    {
     "data": {
      "image/png": "[encoded data removed]",
      "text/plain": [
       "<Figure size 800x400 with 1 Axes>"
      ]
     },
     "metadata": {},
     "output_type": "display_data"
    }
   ],
   "source": [
    "from sklearn.model_selection import cross_val_score\n",
    "import numpy as np\n",
    "\n",
    "# Realizar validación cruzada con 5 particiones\n",
    "cv_scores = cross_val_score(model, X, y, cv=5)\n",
    "\n",
    "# Imprimir los resultados de la validación cruzada\n",
    "print(\"Resultados de la validación cruzada:\", cv_scores)\n",
    "print(\"Precisión promedio: {:.2f}\".format(np.mean(cv_scores)))\n",
    "print(\"Desviación estándar: {:.2f}\".format(np.std(cv_scores)))\n",
    "\n",
    "# Generar gráfica de los resultados de la validación cruzada\n",
    "plt.figure(figsize=(8, 4))\n",
    "plt.plot(range(1, 6), cv_scores, marker='o', linestyle='-', color='b')\n",
    "plt.xlabel('Fold')\n",
    "plt.ylabel('Precisión')\n",
    "plt.title('Validación Cruzada - Precisión en cada Fold')\n",
    "plt.grid(True)\n",
    "plt.show()"
   ]
  },
  {
   "attachments": {},
   "cell_type": "markdown",
   "metadata": {},
   "source": [
    "## Redes neuronales\n"
   ]
  },
  {
   "attachments": {},
   "cell_type": "markdown",
   "metadata": {},
   "source": [
    "### Neural network: multi-layer perceptron 3,4"
   ]
  },
  {
   "cell_type": "code",
   "execution_count": 14,
   "metadata": {},
   "outputs": [
    {
     "data": {
      "text/plain": [
       "array([1, 1, 1, ..., 1, 1, 1], dtype=int64)"
      ]
     },
     "execution_count": 14,
     "metadata": {},
     "output_type": "execute_result"
    }
   ],
   "source": [
    "from sklearn.neural_network import MLPClassifier\n",
    "mlp = MLPClassifier(hidden_layer_sizes=(3,4), max_iter=1000)\n",
    "mlp.fit(X_train,y_train)\n",
    "y_pred = mlp.predict(X_test)\n",
    "y_pred"
   ]
  },
  {
   "cell_type": "code",
   "execution_count": 15,
   "metadata": {},
   "outputs": [
    {
     "name": "stdout",
     "output_type": "stream",
     "text": [
      "Matriz de confusión\n",
      " [[  3019  38860]\n",
      " [   895 277656]]\n",
      "Accuracy:  0.8759323409168929\n",
      "Precision:  0.8759323409168929\n",
      "recall:  0.8759323409168929\n"
     ]
    }
   ],
   "source": [
    "from sklearn.metrics import make_scorer, accuracy_score,precision_score\n",
    "from sklearn.metrics import accuracy_score ,precision_score,recall_score,f1_score\n",
    "cm = confusion_matrix(y_test,y_pred)\n",
    "accuracy=accuracy_score(y_test,y_pred)\n",
    "precision =precision_score(y_test, y_pred,average='micro')\n",
    "recall =  recall_score(y_test, y_pred,average='micro')\n",
    "f1 = f1_score(y_test,y_pred,average='micro')\n",
    "print('Matriz de confusión\\n',cm)\n",
    "print('Accuracy: ',accuracy)\n",
    "print('Precision: ', precision)\n",
    "print('recall: ',recall)\n"
   ]
  },
  {
   "attachments": {},
   "cell_type": "markdown",
   "metadata": {},
   "source": [
    "### Neural network: multi-layer perceptron 10,2\n"
   ]
  },
  {
   "cell_type": "code",
   "execution_count": 16,
   "metadata": {},
   "outputs": [
    {
     "data": {
      "text/plain": [
       "array([1, 1, 1, ..., 1, 1, 1], dtype=int64)"
      ]
     },
     "execution_count": 16,
     "metadata": {},
     "output_type": "execute_result"
    }
   ],
   "source": [
    "mlp2 = MLPClassifier(hidden_layer_sizes=(10,2), max_iter=100, learning_rate=\"constant\", learning_rate_init=0.1)\n",
    "mlp2.fit(X_train,y_train)\n",
    "y_pred2 = mlp2.predict(X_test)\n",
    "y_pred2"
   ]
  },
  {
   "cell_type": "code",
   "execution_count": 17,
   "metadata": {},
   "outputs": [
    {
     "name": "stdout",
     "output_type": "stream",
     "text": [
      "Matriz de confusión\n",
      " [[     0  41879]\n",
      " [     0 278551]]\n",
      "Accuracy:  0.8693037480885061\n",
      "Precision:  0.8693037480885061\n",
      "recall:  0.8693037480885061\n"
     ]
    }
   ],
   "source": [
    "cm2 = confusion_matrix(y_test,y_pred2)\n",
    "accuracy2=accuracy_score(y_test,y_pred2)\n",
    "precision2 =precision_score(y_test, y_pred2,average='micro')\n",
    "recall2 =  recall_score(y_test, y_pred2,average='micro')\n",
    "f12 = f1_score(y_test,y_pred2,average='micro')\n",
    "print('Matriz de confusión\\n',cm2)\n",
    "print('Accuracy: ',accuracy2)\n",
    "print('Precision: ', precision2)\n",
    "print('recall: ',recall2)"
   ]
  },
  {
   "attachments": {},
   "cell_type": "markdown",
   "metadata": {},
   "source": [
    "### Neural network: multi-layer perceptron 5,3"
   ]
  },
  {
   "cell_type": "code",
   "execution_count": 18,
   "metadata": {},
   "outputs": [
    {
     "data": {
      "text/plain": [
       "array([1, 1, 1, ..., 1, 1, 1], dtype=int64)"
      ]
     },
     "execution_count": 18,
     "metadata": {},
     "output_type": "execute_result"
    }
   ],
   "source": [
    "mlp3 = MLPClassifier(hidden_layer_sizes=(5,3), max_iter=500, learning_rate=\"constant\", learning_rate_init=1)\n",
    "mlp3.fit(X_train,y_train)\n",
    "y_pred3 = mlp3.predict(X_test)\n",
    "y_pred3\n"
   ]
  },
  {
   "cell_type": "code",
   "execution_count": 19,
   "metadata": {},
   "outputs": [
    {
     "name": "stdout",
     "output_type": "stream",
     "text": [
      "Matriz de confusión\n",
      " [[     0  41879]\n",
      " [     0 278551]]\n",
      "Accuracy:  0.8693037480885061\n",
      "Precision:  0.8693037480885061\n",
      "recall:  0.8693037480885061\n"
     ]
    }
   ],
   "source": [
    "cm3 = confusion_matrix(y_test,y_pred3)\n",
    "accuracy3=accuracy_score(y_test,y_pred3)\n",
    "precision3 =precision_score(y_test, y_pred3,average='micro')\n",
    "recall3 =  recall_score(y_test, y_pred3,average='micro')\n",
    "f13 = f1_score(y_test,y_pred3,average='micro')\n",
    "print('Matriz de confusión\\n',cm3)\n",
    "print('Accuracy: ',accuracy3)\n",
    "print('Precision: ', precision3)\n",
    "print('recall: ',recall3)"
   ]
  },
  {
   "attachments": {},
   "cell_type": "markdown",
   "metadata": {},
   "source": [
    "### Neural network: multi-layer perceptron 3,2"
   ]
  },
  {
   "cell_type": "code",
   "execution_count": 20,
   "metadata": {},
   "outputs": [
    {
     "data": {
      "text/plain": [
       "array([1, 1, 1, ..., 1, 1, 1], dtype=int64)"
      ]
     },
     "execution_count": 20,
     "metadata": {},
     "output_type": "execute_result"
    }
   ],
   "source": [
    "mlp4 = MLPClassifier(hidden_layer_sizes=(3,2), max_iter=1000, learning_rate=\"constant\", learning_rate_init=10)\n",
    "mlp4.fit(X_train,y_train)\n",
    "y_pred4 = mlp4.predict(X_test)\n",
    "y_pred4"
   ]
  },
  {
   "cell_type": "code",
   "execution_count": 21,
   "metadata": {},
   "outputs": [
    {
     "name": "stdout",
     "output_type": "stream",
     "text": [
      "Matriz de confusión\n",
      " [[     0  41879]\n",
      " [     0 278551]]\n",
      "Accuracy:  0.8693037480885061\n",
      "Precision:  0.8693037480885061\n",
      "recall:  0.8693037480885061\n"
     ]
    }
   ],
   "source": [
    "cm4 = confusion_matrix(y_test,y_pred4)\n",
    "accuracy4=accuracy_score(y_test,y_pred4)\n",
    "precision4 =precision_score(y_test, y_pred4,average='micro')\n",
    "recall4 =  recall_score(y_test, y_pred4,average='micro')\n",
    "f14 = f1_score(y_test,y_pred4,average='micro')\n",
    "print('Matriz de confusión\\n',cm4)\n",
    "print('Accuracy: ',accuracy4)\n",
    "print('Precision: ', precision4)\n",
    "print('recall: ',recall4)"
   ]
  },
  {
   "cell_type": "code",
   "execution_count": 22,
   "metadata": {},
   "outputs": [
    {
     "name": "stdout",
     "output_type": "stream",
     "text": [
      "         Sexo  Tipar  ViaPar  Sitioocu  Mupocu\n",
      "0           2      1       2         4     101\n",
      "1           1      1       2         4     101\n",
      "2           1      1       2         4     101\n",
      "3           2      1       2         4    2106\n",
      "4           2      1       2         4    1805\n",
      "...       ...    ...     ...       ...     ...\n",
      "1091262     2      1       1         2     101\n",
      "1091263     2      1       2         4     101\n",
      "1091264     2      1       1         2     901\n",
      "1091265     1      1       1         2     101\n",
      "1091266     1      1       1         2     101\n",
      "\n",
      "[1068100 rows x 5 columns]\n"
     ]
    }
   ],
   "source": [
    "\"\"\"\n",
    "cv_scores2 = cross_val_score(mlp, X, y, cv=5)\n",
    "\n",
    "# Imprimir los resultados de la validación cruzada\n",
    "print(\"Resultados de la validación cruzada:\", cv_scores2)\n",
    "print(\"Precisión promedio: {:.2f}\".format(np.mean(cv_scores2)))\n",
    "print(\"Desviación estándar: {:.2f}\".format(np.std(cv_scores2)))\n",
    "\n",
    "# Generar gráfica de los resultados de la validación cruzada\n",
    "plt.figure(figsize=(8, 4))\n",
    "plt.plot(range(1, 6), cv_scores2, marker='o', linestyle='-', color='b')\n",
    "plt.xlabel('Fold')\n",
    "plt.ylabel('Precisión')\n",
    "plt.title('Validación Cruzada - Precisión en cada Fold')\n",
    "plt.grid(True)\n",
    "plt.show()\n",
    "\n",
    "\"\"\"\n",
    "print(X)"
   ]
  },
  {
   "attachments": {},
   "cell_type": "markdown",
   "metadata": {},
   "source": [
    "### Random Forest"
   ]
  },
  {
   "cell_type": "code",
   "execution_count": 23,
   "metadata": {},
   "outputs": [
    {
     "name": "stdout",
     "output_type": "stream",
     "text": [
      "Accuracy: 0.875635864307337\n"
     ]
    }
   ],
   "source": [
    "from sklearn.ensemble import RandomForestClassifier\n",
    "\n",
    "# Create a random forest classifier\n",
    "clf = RandomForestClassifier(n_estimators=100, random_state=42)\n",
    "\n",
    "# Train the classifier\n",
    "clf.fit(X_train, y_train)\n",
    "\n",
    "# Make predictions on the test set\n",
    "y_pred = clf.predict(X_test)\n",
    "\n",
    "# Calculate the accuracy of the model\n",
    "accuracy = accuracy_score(y_test, y_pred)\n",
    "print(\"Accuracy:\", accuracy)"
   ]
  },
  {
   "cell_type": "code",
   "execution_count": 24,
   "metadata": {},
   "outputs": [
    {
     "name": "stdout",
     "output_type": "stream",
     "text": [
      "Confusion Matrix:\n",
      "[[  2861  39018]\n",
      " [   832 277719]]\n"
     ]
    },
    {
     "data": {
      "image/png": "[encoded data removed]",
      "text/plain": [
       "<Figure size 640x480 with 2 Axes>"
      ]
     },
     "metadata": {},
     "output_type": "display_data"
    }
   ],
   "source": [
    "# Generate the confusion matrix\n",
    "cmclf = confusion_matrix(y_test, y_pred)\n",
    "print(\"Confusion Matrix:\")\n",
    "print(cmclf)\n",
    "\n",
    "# Create a heatmap of the confusion matrix\n",
    "sns.heatmap(cmclf, annot=True, fmt=\"d\", cmap=\"Blues\")\n",
    "\n",
    "# Add labels, title, and axis ticks\n",
    "plt.title('Confusion Matrix')\n",
    "plt.xlabel('Predicted')\n",
    "plt.ylabel('Actual')\n",
    "plt.show()"
   ]
  },
  {
   "cell_type": "code",
   "execution_count": 25,
   "metadata": {},
   "outputs": [
    {
     "name": "stdout",
     "output_type": "stream",
     "text": [
      "Classification Report of Random Forest Classifier:\n",
      "              precision    recall  f1-score   support\n",
      "\n",
      "           0       0.77      0.07      0.13     41879\n",
      "           1       0.88      1.00      0.93    278551\n",
      "\n",
      "    accuracy                           0.88    320430\n",
      "   macro avg       0.83      0.53      0.53    320430\n",
      "weighted avg       0.86      0.88      0.83    320430\n",
      "\n"
     ]
    }
   ],
   "source": [
    "from sklearn.metrics import classification_report\n",
    "\n",
    "# Generate the classification report\n",
    "report = classification_report(y_test, y_pred)\n",
    "print(\"Classification Report of Random Forest Classifier:\")\n",
    "print(report)"
   ]
  },
  {
   "attachments": {},
   "cell_type": "markdown",
   "metadata": {},
   "source": [
    "### Tree classifier"
   ]
  },
  {
   "cell_type": "code",
   "execution_count": 26,
   "metadata": {},
   "outputs": [
    {
     "name": "stdout",
     "output_type": "stream",
     "text": [
      "Accuracy: 0.8755235152763474\n"
     ]
    }
   ],
   "source": [
    "from sklearn.tree import DecisionTreeClassifier\n",
    "\n",
    "# Assuming you have your features and labels stored in X and y, respectively\n",
    "\n",
    "# Create a decision tree classifier\n",
    "dtclf = DecisionTreeClassifier(random_state=42)\n",
    "\n",
    "# Train the classifier\n",
    "dtclf.fit(X_train, y_train)\n",
    "\n",
    "# Make predictions on the test set\n",
    "y_pred = dtclf.predict(X_test)\n",
    "\n",
    "# Calculate the accuracy of the model\n",
    "accuracy = accuracy_score(y_test, y_pred)\n",
    "print(\"Accuracy:\", accuracy)"
   ]
  },
  {
   "cell_type": "code",
   "execution_count": 27,
   "metadata": {},
   "outputs": [
    {
     "name": "stdout",
     "output_type": "stream",
     "text": [
      "Confusion Matrix:\n",
      "[[  2890  38989]\n",
      " [   897 277654]]\n"
     ]
    },
    {
     "data": {
      "image/png": "[encoded data removed]",
      "text/plain": [
       "<Figure size 640x480 with 2 Axes>"
      ]
     },
     "metadata": {},
     "output_type": "display_data"
    }
   ],
   "source": [
    "# Generate the confusion matrix\n",
    "dtclf = confusion_matrix(y_test, y_pred)\n",
    "print(\"Confusion Matrix:\")\n",
    "print(dtclf)\n",
    "\n",
    "# Create a heatmap of the confusion matrix\n",
    "sns.heatmap(dtclf, annot=True, fmt=\"d\", cmap=\"Blues\")\n",
    "\n",
    "# Add labels, title, and axis ticks\n",
    "plt.title('Confusion Matrix')\n",
    "plt.xlabel('Predicted')\n",
    "plt.ylabel('Actual')\n",
    "plt.show()"
   ]
  },
  {
   "cell_type": "code",
   "execution_count": 28,
   "metadata": {},
   "outputs": [
    {
     "name": "stdout",
     "output_type": "stream",
     "text": [
      "Classification Report of Tree Classifier:\n",
      "              precision    recall  f1-score   support\n",
      "\n",
      "           0       0.76      0.07      0.13     41879\n",
      "           1       0.88      1.00      0.93    278551\n",
      "\n",
      "    accuracy                           0.88    320430\n",
      "   macro avg       0.82      0.53      0.53    320430\n",
      "weighted avg       0.86      0.88      0.83    320430\n",
      "\n"
     ]
    }
   ],
   "source": [
    "from sklearn.metrics import classification_report\n",
    "\n",
    "# Generate the classification report\n",
    "report = classification_report(y_test, y_pred)\n",
    "print(\"Classification Report of Tree Classifier:\")\n",
    "print(report)"
   ]
  },
  {
   "attachments": {},
   "cell_type": "markdown",
   "metadata": {},
   "source": [
    "### naive bayes classifier"
   ]
  },
  {
   "cell_type": "code",
   "execution_count": 8,
   "metadata": {},
   "outputs": [
    {
     "name": "stdout",
     "output_type": "stream",
     "text": [
      "Accuracy: 0.8759323409168929\n"
     ]
    }
   ],
   "source": [
    "from sklearn.naive_bayes import GaussianNB\n",
    "from sklearn.metrics import accuracy_score\n",
    "\n",
    "# Create a Naive Bayes classifier\n",
    "clf = GaussianNB()\n",
    "\n",
    "# Train the classifier\n",
    "clf.fit(X_train, y_train)\n",
    "\n",
    "# Make predictions on the test set\n",
    "y_pred = clf.predict(X_test)\n",
    "\n",
    "# Calculate the accuracy of the model\n",
    "accuracy = accuracy_score(y_test, y_pred)\n",
    "print(\"Accuracy:\", accuracy)"
   ]
  },
  {
   "cell_type": "code",
   "execution_count": 9,
   "metadata": {},
   "outputs": [
    {
     "name": "stdout",
     "output_type": "stream",
     "text": [
      "Confusion Matrix:\n",
      "[[  3019  38860]\n",
      " [   895 277656]]\n"
     ]
    },
    {
     "data": {
      "image/png": "[encoded data removed]",
      "text/plain": [
       "<Figure size 640x480 with 2 Axes>"
      ]
     },
     "metadata": {},
     "output_type": "display_data"
    }
   ],
   "source": [
    "# Generate the confusion matrix\n",
    "naiveclf = confusion_matrix(y_test, y_pred)\n",
    "print(\"Confusion Matrix:\")\n",
    "print(naiveclf)\n",
    "\n",
    "# Create a heatmap of the confusion matrix\n",
    "sns.heatmap(naiveclf, annot=True, fmt=\"d\", cmap=\"Blues\")\n",
    "\n",
    "# Add labels, title, and axis ticks\n",
    "plt.title('Confusion Matrix')\n",
    "plt.xlabel('Predicted')\n",
    "plt.ylabel('Actual')\n",
    "plt.show()"
   ]
  },
  {
   "cell_type": "code",
   "execution_count": 12,
   "metadata": {},
   "outputs": [
    {
     "name": "stdout",
     "output_type": "stream",
     "text": [
      "Classification Report for naive classifier:\n",
      "              precision    recall  f1-score   support\n",
      "\n",
      "           0       0.77      0.07      0.13     41879\n",
      "           1       0.88      1.00      0.93    278551\n",
      "\n",
      "    accuracy                           0.88    320430\n",
      "   macro avg       0.82      0.53      0.53    320430\n",
      "weighted avg       0.86      0.88      0.83    320430\n",
      "\n",
      "Accuracy: 0.8759323409168929\n"
     ]
    }
   ],
   "source": [
    "from sklearn.metrics import classification_report\n",
    "\n",
    "# Generate the classification report\n",
    "report = classification_report(y_test, y_pred)\n",
    "print(\"Classification Report for naive classifier:\")\n",
    "print(report)\n",
    "print(\"Accuracy:\", accuracy)\n"
   ]
  }
 ],
 "metadata": {
  "kernelspec": {
   "display_name": "Python 3",
   "language": "python",
   "name": "python3"
  },
  "language_info": {
   "codemirror_mode": {
    "name": "ipython",
    "version": 3
   },
   "file_extension": ".py",
   "mimetype": "text/x-python",
   "name": "python",
   "nbconvert_exporter": "python",
   "pygments_lexer": "ipython3",
   "version": "3.9.2"
  },
  "orig_nbformat": 4
 },
 "nbformat": 4,
 "nbformat_minor": 2
}
